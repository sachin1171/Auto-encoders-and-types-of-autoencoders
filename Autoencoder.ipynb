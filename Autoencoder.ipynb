{
 "cells": [
  {
   "cell_type": "markdown",
   "metadata": {
    "id": "F3OFAQIiDpF_"
   },
   "source": [
    "###**Image Denoising Autoencoder**\n",
    "###With **Salt** And **Pepper** Noise\n",
    "Encoder : - a function f that compresses the input into a latent-space representation. f(x) = h\n",
    "\n",
    "Decoder : - a function g that reconstruct the input from the latent space representation. g(h) ~ x."
   ]
  },
  {
   "cell_type": "code",
   "execution_count": 1,
   "metadata": {
    "id": "DweXBxm3DeI4"
   },
   "outputs": [],
   "source": [
    "#importing dataset\n",
    "from keras.datasets import mnist"
   ]
  },
  {
   "cell_type": "code",
   "execution_count": 2,
   "metadata": {
    "id": "4aicLeV-EVbk"
   },
   "outputs": [],
   "source": [
    "#importing required libraries\n",
    "import keras\n",
    "from keras.models import Model\n",
    "from keras.optimizers import Adadelta\n",
    "from keras.layers import Input, Conv2D, MaxPool2D, UpSampling2D\n",
    "from keras.callbacks import EarlyStopping\n",
    "import numpy as np\n",
    "import matplotlib.pyplot as plt"
   ]
  },
  {
   "cell_type": "code",
   "execution_count": 3,
   "metadata": {
    "colab": {
     "base_uri": "https://localhost:8080/"
    },
    "id": "sjtDzCy2EglZ",
    "outputId": "2587997c-f044-48f3-ccad-6d883a70f654"
   },
   "outputs": [],
   "source": [
    "#Preprocessing of Dataset And Adding Salt and Pepper Noise to our dataset\n",
    "(train_X, train_y), (test_X, test_y) = mnist.load_data()\n",
    "\n",
    "# to convert values from 0 to 255 into range 0 to 1.\n",
    "train_X = train_X.astype('float32') / 255.\n",
    "test_X = test_X.astype('float32') / 255.\n",
    "train_X = np.reshape(train_X, (len(train_X), 28, 28, 1)) \n",
    "test_X = np.reshape(test_X, (len(test_X), 28, 28, 1))  \n",
    "\n",
    "noise_factor = 0.5\n",
    "\n",
    "#np.random.normal => random means to obtain random samples\n",
    "#normal means normal or gaussian distribution, \n",
    "#i.e. random sample from gaussian distribution\n",
    "train_X_noisy = train_X + noise_factor * np.random.normal(loc=0.0, scale=1.0, size=train_X.shape)  \n",
    "test_X_noisy = test_X + noise_factor * np.random.normal(loc=0.0, scale=1.0, size=test_X.shape) \n",
    "\n",
    "# to make values in the range of 0 to 1, \n",
    "#if values < 0 then they will be equal to 0 and \n",
    "#if values > 1 then they will be equal to 1.\n",
    "train_X_noisy = np.clip(train_X_noisy, 0., 1.)   \n",
    "test_X_noisy = np.clip(test_X_noisy, 0., 1.)"
   ]
  },
  {
   "cell_type": "code",
   "execution_count": 4,
   "metadata": {
    "id": "Qf-3f5eRExL0"
   },
   "outputs": [],
   "source": [
    "#Defining our Image denoising autoencoder using keras\n",
    "Input_img = Input(shape=(28, 28, 1))  \n",
    "\n",
    "#encoding architecture\n",
    "x1 = Conv2D(64, (3, 3), activation='relu', padding='same')(Input_img)\n",
    "x1 = MaxPool2D( (2, 2), padding='same')(x1)\n",
    "x2 = Conv2D(32, (3, 3), activation='relu', padding='same')(x1)\n",
    "x2 = MaxPool2D( (2, 2), padding='same')(x2)\n",
    "x3 = Conv2D(16, (3, 3), activation='relu', padding='same')(x2)\n",
    "encoded    = MaxPool2D( (2, 2), padding='same')(x3)\n",
    "\n",
    "# decoding architecture\n",
    "x3 = Conv2D(16, (3, 3), activation='relu', padding='same')(encoded)\n",
    "x3 = UpSampling2D((2, 2))(x3)\n",
    "x2 = Conv2D(32, (3, 3), activation='relu', padding='same')(x3)\n",
    "x2 = UpSampling2D((2, 2))(x2)\n",
    "x1 = Conv2D(64, (3, 3), activation='relu')(x2)\n",
    "x1 = UpSampling2D((2, 2))(x1)\n",
    "decoded   = Conv2D(1, (3, 3), padding='same')(x1)\n",
    "\n",
    "autoencoder = Model(Input_img, decoded)\n",
    "autoencoder.compile(optimizer='adadelta', loss='binary_crossentropy')"
   ]
  },
  {
   "cell_type": "code",
   "execution_count": 5,
   "metadata": {
    "colab": {
     "base_uri": "https://localhost:8080/"
    },
    "id": "T_II_XrFE2ah",
    "outputId": "eebbd1e7-211c-44f3-a68b-0f6bd401c911"
   },
   "outputs": [
    {
     "name": "stdout",
     "output_type": "stream",
     "text": [
      "Model: \"model\"\n",
      "_________________________________________________________________\n",
      "Layer (type)                 Output Shape              Param #   \n",
      "=================================================================\n",
      "input_1 (InputLayer)         [(None, 28, 28, 1)]       0         \n",
      "_________________________________________________________________\n",
      "conv2d (Conv2D)              (None, 28, 28, 64)        640       \n",
      "_________________________________________________________________\n",
      "max_pooling2d (MaxPooling2D) (None, 14, 14, 64)        0         \n",
      "_________________________________________________________________\n",
      "conv2d_1 (Conv2D)            (None, 14, 14, 32)        18464     \n",
      "_________________________________________________________________\n",
      "max_pooling2d_1 (MaxPooling2 (None, 7, 7, 32)          0         \n",
      "_________________________________________________________________\n",
      "conv2d_2 (Conv2D)            (None, 7, 7, 16)          4624      \n",
      "_________________________________________________________________\n",
      "max_pooling2d_2 (MaxPooling2 (None, 4, 4, 16)          0         \n",
      "_________________________________________________________________\n",
      "conv2d_3 (Conv2D)            (None, 4, 4, 16)          2320      \n",
      "_________________________________________________________________\n",
      "up_sampling2d (UpSampling2D) (None, 8, 8, 16)          0         \n",
      "_________________________________________________________________\n",
      "conv2d_4 (Conv2D)            (None, 8, 8, 32)          4640      \n",
      "_________________________________________________________________\n",
      "up_sampling2d_1 (UpSampling2 (None, 16, 16, 32)        0         \n",
      "_________________________________________________________________\n",
      "conv2d_5 (Conv2D)            (None, 14, 14, 64)        18496     \n",
      "_________________________________________________________________\n",
      "up_sampling2d_2 (UpSampling2 (None, 28, 28, 64)        0         \n",
      "_________________________________________________________________\n",
      "conv2d_6 (Conv2D)            (None, 28, 28, 1)         577       \n",
      "=================================================================\n",
      "Total params: 49,761\n",
      "Trainable params: 49,761\n",
      "Non-trainable params: 0\n",
      "_________________________________________________________________\n"
     ]
    }
   ],
   "source": [
    "#Structure of our Autoencoder\n",
    "autoencoder.summary()"
   ]
  },
  {
   "cell_type": "code",
   "execution_count": 6,
   "metadata": {
    "id": "qOe9IJ_9FJnx"
   },
   "outputs": [],
   "source": [
    "#Performing Early Stopping and Then fitting training and testing data to our autoencoder\n",
    "from keras.callbacks import EarlyStopping\n",
    "early_stopper = EarlyStopping(monitor='val_loss', min_delta=0, patience=10, verbose=1, mode='auto')"
   ]
  },
  {
   "cell_type": "code",
   "execution_count": null,
   "metadata": {
    "colab": {
     "base_uri": "https://localhost:8080/"
    },
    "id": "dpyvnp-AFa3G",
    "outputId": "d3aa7827-64bb-422a-b6ba-72e487d66288"
   },
   "outputs": [
    {
     "name": "stdout",
     "output_type": "stream",
     "text": [
      "Epoch 1/1000\n",
      " 55/469 [==>...........................] - ETA: 4:11 - loss: 0.6151"
     ]
    }
   ],
   "source": [
    "#Training our autoencoder and validating it on validation data\n",
    "a_e = autoencoder.fit(train_X_noisy, train_X,epochs=1000,batch_size=128,shuffle=True,validation_data=(test_X_noisy, test_X),callbacks=[early_stopper])"
   ]
  },
  {
   "cell_type": "code",
   "execution_count": 14,
   "metadata": {
    "id": "HKTfcR4oaOVj"
   },
   "outputs": [],
   "source": [
    "#saving model\n",
    "autoencoder.save('autoenc_1000_epoch.h5')"
   ]
  },
  {
   "cell_type": "code",
   "execution_count": 15,
   "metadata": {
    "id": "W9-mP9IZFgLd"
   },
   "outputs": [],
   "source": [
    "#Making Predictions\n",
    "# to predict the reconstructed images for the original images...\n",
    "pred = autoencoder.predict(test_X_noisy)"
   ]
  },
  {
   "cell_type": "code",
   "execution_count": 16,
   "metadata": {
    "colab": {
     "base_uri": "https://localhost:8080/",
     "height": 162
    },
    "id": "F8aaL_SOF2Aw",
    "outputId": "cc44aa38-27d4-4370-e802-dc0606043c28"
   },
   "outputs": [
    {
     "data": {
      "image/png": "[encoded data removed]",
      "text/plain": [
       "<Figure size 720x720 with 5 Axes>"
      ]
     },
     "metadata": {
      "tags": []
     },
     "output_type": "display_data"
    }
   ],
   "source": [
    "#Visualizing original image\n",
    "plt.figure(figsize=(10,10))\n",
    "for i in range(5):\n",
    "    plt.subplot(1, 5, i+1)\n",
    "    plt.xticks([]) # to remove x-axis  the [] empty list indicates this\n",
    "    plt.yticks([]) # to remove y-axis\n",
    "    plt.grid(False) # to remove grid\n",
    "    plt.imshow(test_X[i].reshape(28, 28), cmap='gray') #display the image \n",
    "plt.tight_layout() # to have a proper space in the subplots\n",
    "plt.show()"
   ]
  },
  {
   "cell_type": "code",
   "execution_count": 17,
   "metadata": {
    "colab": {
     "base_uri": "https://localhost:8080/",
     "height": 162
    },
    "id": "dYe4hlXBF4mm",
    "outputId": "a5750518-0346-4578-9ae6-3fc9c746c867"
   },
   "outputs": [
    {
     "data": {
      "image/png": "[encoded data removed]",
      "text/plain": [
       "<Figure size 720x720 with 5 Axes>"
      ]
     },
     "metadata": {
      "tags": []
     },
     "output_type": "display_data"
    }
   ],
   "source": [
    "#visualizing noise image\n",
    "plt.figure(figsize=(10,10))\n",
    "for i in range(5):\n",
    "    plt.subplot(1, 5, i+1)\n",
    "    plt.xticks([]) # to remove x-axis  the [] empty list indicates this\n",
    "    plt.yticks([]) # to remove y-axis\n",
    "    plt.grid(False) # to remove grid\n",
    "    plt.imshow(test_X_noisy[i].reshape(28, 28), cmap='gray') #display the image \n",
    "plt.tight_layout() # to have a proper space in the subplots\n",
    "plt.show()"
   ]
  },
  {
   "cell_type": "code",
   "execution_count": 18,
   "metadata": {
    "colab": {
     "base_uri": "https://localhost:8080/",
     "height": 162
    },
    "id": "NtUHoN0rF7Rl",
    "outputId": "3200e977-ece8-4b2c-9b56-175950711bdf"
   },
   "outputs": [
    {
     "data": {
      "image/png": "[encoded data removed]",
      "text/plain": [
       "<Figure size 720x720 with 5 Axes>"
      ]
     },
     "metadata": {
      "tags": []
     },
     "output_type": "display_data"
    }
   ],
   "source": [
    "# to visualize reconstructed images(output of autoencoder)\n",
    "plt.figure(figsize=(10,10))\n",
    "for i in range(5):\n",
    "    plt.subplot(1, 5, i+1)\n",
    "    plt.xticks([]) # to remove x-axis  the [] empty list indicates this\n",
    "    plt.yticks([]) # to remove y-axis\n",
    "    plt.grid(False) # to remove grid\n",
    "    plt.imshow(pred[i].reshape(28, 28), cmap='gray') #display the image \n",
    "plt.tight_layout() # to have a proper space in the subplots\n",
    "plt.show()"
   ]
  }
 ],
 "metadata": {
  "accelerator": "GPU",
  "colab": {
   "name": "Autoencoder.ipynb",
   "provenance": []
  },
  "kernelspec": {
   "display_name": "Python 3",
   "language": "python",
   "name": "python3"
  },
  "language_info": {
   "codemirror_mode": {
    "name": "ipython",
    "version": 3
   },
   "file_extension": ".py",
   "mimetype": "text/x-python",
   "name": "python",
   "nbconvert_exporter": "python",
   "pygments_lexer": "ipython3",
   "version": "3.8.5"
  }
 },
 "nbformat": 4,
 "nbformat_minor": 1
}
